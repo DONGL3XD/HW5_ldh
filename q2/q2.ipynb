{
 "cells": [
  {
   "cell_type": "code",
   "execution_count": 4,
   "metadata": {},
   "outputs": [
    {
     "name": "stdout",
     "output_type": "stream",
     "text": [
      "*** Annual Temperature Report for Seoul in 2022 ***\n",
      "Day with the Largesst Temperature Variation: 2022-11-29\n",
      "Maximum Temperature Difference: 16.6Celsius\n",
      "Day with the Smallest Temperature Variation: 2022-06-29\n",
      "Minimum Temperature Difference: 1.7Celsius\n"
     ]
    }
   ],
   "source": [
    "import csv\n",
    "\n",
    "\n",
    "def main() :\n",
    "    f= open('q2.csv', 'r', encoding='cp949')\n",
    "    data = csv.reader(f, delimiter = ',')\n",
    "    next(data)\n",
    "\n",
    "    minday = ''\n",
    "    maxday = ''\n",
    "    mingap = 99\n",
    "    maxgap = 0\n",
    "\n",
    "    for row in data :\n",
    "        if row[3] != '' :\n",
    "          miTemp = float(row[3])\n",
    "        else :\n",
    "          continue\n",
    "        if row[4] != '' :\n",
    "          maTemp = float(row[4])\n",
    "        else :\n",
    "          continue\n",
    "\n",
    "        if miTemp != '' and maTemp != '' :\n",
    "           gap = maTemp - miTemp\n",
    "\n",
    "           if gap < mingap :\n",
    "             minday = row[0]\n",
    "             mingap = gap\n",
    "           if gap > maxgap :\n",
    "             maxday = row[0]\n",
    "             maxgap = gap\n",
    "\n",
    "    print(\"*** Annual Temperature Report for Seoul in 2022 ***\")\n",
    "    print(\"Day with the Largesst Temperature Variation: \" + maxday)\n",
    "    print(\"Maximum Temperature Difference: \" + str(round(maxgap, 2)) + \"Celsius\")\n",
    "    print(\"Day with the Smallest Temperature Variation: \" + minday)\n",
    "    print(\"Minimum Temperature Difference: \" + str(round(mingap, 2)) + \"Celsius\")\n",
    "\n",
    "if __name__==\"__main__\" :\n",
    "    main()"
   ]
  }
 ],
 "metadata": {
  "kernelspec": {
   "display_name": "Python 3",
   "language": "python",
   "name": "python3"
  },
  "language_info": {
   "codemirror_mode": {
    "name": "ipython",
    "version": 3
   },
   "file_extension": ".py",
   "mimetype": "text/x-python",
   "name": "python",
   "nbconvert_exporter": "python",
   "pygments_lexer": "ipython3",
   "version": "3.10.10"
  },
  "orig_nbformat": 4
 },
 "nbformat": 4,
 "nbformat_minor": 2
}
