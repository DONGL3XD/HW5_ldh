{
 "cells": [
  {
   "cell_type": "code",
   "execution_count": 2,
   "metadata": {},
   "outputs": [
    {
     "name": "stdout",
     "output_type": "stream",
     "text": [
      "*** Subway Report for Seoul on March 2023 ***\n",
      "1st Busiest Line: Line2 (85620512)\n",
      "2st Busiest Line: Line5 (39671990)\n",
      "1st Least used Line: Line8 (11863928)\n",
      "2st Least used Line: Line1 (14705833)\n"
     ]
    }
   ],
   "source": [
    "import csv\n",
    "\n",
    "def main() :\n",
    "    f= open('q3.csv', 'r', encoding='cp949')\n",
    "    data = csv.reader(f, delimiter = ',')\n",
    "\n",
    "    lines = []\n",
    "\n",
    "    for i in range(9) :\n",
    "        lines.append([0, (i + 1)])\n",
    "\n",
    "    next(data)\n",
    "\n",
    "    for row in data :\n",
    "        if row[1] == '1호선' :\n",
    "            lines[0][0] = int(row[4]) + int(row[5]) + lines[0][0]\n",
    "        if row[1] == '2호선' :\n",
    "            lines[1][0] = int(row[4]) + int(row[5]) + lines[1][0]\n",
    "        if row[1] == '3호선' :\n",
    "            lines[2][0] = int(row[4]) + int(row[5]) + lines[2][0]\n",
    "        if row[1] == '4호선' :\n",
    "            lines[3][0] = int(row[4]) + int(row[5]) + lines[3][0]\n",
    "        if row[1] == '5호선' :\n",
    "            lines[4][0] = int(row[4]) + int(row[5]) + lines[4][0]\n",
    "        if row[1] == '6호선' :\n",
    "            lines[5][0] = int(row[4]) + int(row[5]) + lines[5][0]\n",
    "        if row[1] == '7호선' :\n",
    "            lines[6][0] = int(row[4]) + int(row[5]) + lines[6][0]\n",
    "        if row[1] == '8호선' :\n",
    "            lines[7][0] = int(row[4]) + int(row[5]) + lines[7][0]\n",
    "        if row[1] == '9호선' :\n",
    "            lines[8][0] = int(row[4]) + int(row[5]) + lines[8][0]\n",
    "\n",
    "    print(\"*** Subway Report for Seoul on March 2023 ***\")\n",
    "\n",
    "    for j in range(2) :\n",
    "        max = [0, 0]\n",
    "        for i in range(9 - j) :\n",
    "            if lines[i][0] > max[0] :\n",
    "                max = lines[i]\n",
    "        print(str(j + 1) + \"st Busiest Line: Line\" + str(max[1]) + \" (\" + str(max[0]) + \")\")\n",
    "        lines.remove(max)\n",
    "\n",
    "    for j in range(2) :\n",
    "        min = [99999999, 0]\n",
    "        for i in range(7 - j) :\n",
    "            if lines[i][0] < min[0] :\n",
    "                min = lines[i]\n",
    "        print(str(j + 1) + \"st Least used Line: Line\" + str(min[1]) + \" (\" + str(min[0]) + \")\")\n",
    "        lines.remove(min)\n",
    "\n",
    "if __name__==\"__main__\" :\n",
    "    main()"
   ]
  }
 ],
 "metadata": {
  "kernelspec": {
   "display_name": "Python 3",
   "language": "python",
   "name": "python3"
  },
  "language_info": {
   "codemirror_mode": {
    "name": "ipython",
    "version": 3
   },
   "file_extension": ".py",
   "mimetype": "text/x-python",
   "name": "python",
   "nbconvert_exporter": "python",
   "pygments_lexer": "ipython3",
   "version": "3.10.10"
  },
  "orig_nbformat": 4
 },
 "nbformat": 4,
 "nbformat_minor": 2
}
