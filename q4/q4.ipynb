{
 "cells": [
  {
   "cell_type": "code",
   "execution_count": 5,
   "metadata": {},
   "outputs": [
    {
     "name": "stdout",
     "output_type": "stream",
     "text": [
      "*** Subway Report for Seoul on March 2023 ***\n",
      "Line 1:\n",
      "Busiest Station: 서울역 (3084227)\n",
      "Least used Station: 동묘앞 (658566)\n",
      "\n",
      "Line 2:\n",
      "Busiest Station: 강남 (2390276)\n",
      "Least used Station: 도림천 (38588)\n",
      "\n",
      "Line 3:\n",
      "Busiest Station: 고속터미널 (1473534)\n",
      "Least used Station: 충무로 (48)\n",
      "\n",
      "Line 4:\n",
      "Busiest Station: 혜화 (1141350)\n",
      "Least used Station: 남태령 (43914)\n",
      "\n"
     ]
    }
   ],
   "source": [
    "import csv\n",
    "\n",
    "def main() :\n",
    "    f= open('q4.csv', 'r', encoding='cp949')\n",
    "    data = csv.reader(f, delimiter = ',')\n",
    "\n",
    "    lines = [['', 0, '', 99999999], ['', 0, '', 99999999], ['', 0, '', 99999999], ['', 0, '', 99999999]]\n",
    "\n",
    "    next(data)\n",
    "\n",
    "    for row in data :\n",
    "        if row[1] == '1호선' :\n",
    "            psg = int(row[4]) + int(row[5])\n",
    "            if psg > lines[0][1] :\n",
    "                lines[0][0] = row[3]\n",
    "                lines[0][1] = psg\n",
    "            if psg < lines[0][3] :\n",
    "                lines[0][2] = row[3]\n",
    "                lines[0][3] = psg\n",
    "        if row[1] == '2호선' :\n",
    "            psg = int(row[4])\n",
    "            if psg > lines[1][1] :\n",
    "                lines[1][0] = row[3]\n",
    "                lines[1][1] = psg\n",
    "            if psg < lines[1][3] :\n",
    "                lines[1][2] = row[3]\n",
    "                lines[1][3] = psg\n",
    "        if row[1] == '3호선' :\n",
    "            psg = int(row[4])\n",
    "            if psg > lines[2][1] :\n",
    "                lines[2][0] = row[3]\n",
    "                lines[2][1] = psg\n",
    "            if psg < lines[2][3] :\n",
    "                lines[2][2] = row[3]\n",
    "                lines[2][3] = psg\n",
    "        if row[1] == '4호선' :\n",
    "            psg = int(row[4])\n",
    "            if psg > lines[3][1] :\n",
    "                lines[3][0] = row[3]\n",
    "                lines[3][1] = psg\n",
    "            if psg < lines[3][3] :\n",
    "                lines[3][2] = row[3]\n",
    "                lines[3][3] = psg\n",
    "\n",
    "    print(\"*** Subway Report for Seoul on March 2023 ***\")\n",
    "\n",
    "    for i in range(4) :\n",
    "        print(\"Line \" + str(i + 1) + \":\")\n",
    "        print(f\"Busiest Station: {lines[i][0]} ({str(lines[i][1])})\")\n",
    "        print(f\"Least used Station: {lines[i][2]} ({str(lines[i][3])})\\n\")\n",
    "        \n",
    "\n",
    "if __name__==\"__main__\" :\n",
    "    main()"
   ]
  }
 ],
 "metadata": {
  "kernelspec": {
   "display_name": "Python 3",
   "language": "python",
   "name": "python3"
  },
  "language_info": {
   "codemirror_mode": {
    "name": "ipython",
    "version": 3
   },
   "file_extension": ".py",
   "mimetype": "text/x-python",
   "name": "python",
   "nbconvert_exporter": "python",
   "pygments_lexer": "ipython3",
   "version": "3.10.10"
  },
  "orig_nbformat": 4
 },
 "nbformat": 4,
 "nbformat_minor": 2
}
