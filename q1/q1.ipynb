{
 "cells": [
  {
   "cell_type": "code",
   "execution_count": 5,
   "metadata": {},
   "outputs": [
    {
     "name": "stdout",
     "output_type": "stream",
     "text": [
      "*** Annual Temperature Report for Seoul in 2022 ***\n",
      "Average Temperature: 13.33 Celsius\n",
      "Average Minimum Temperature: 9.28 Celsius\n",
      "Average Maximum Temperature: 18.13 Celsius\n"
     ]
    }
   ],
   "source": [
    "import csv\n",
    "\n",
    "\n",
    "def main() :\n",
    "    f= open('q1.csv', 'r', encoding='cp949')\n",
    "    data = csv.reader(f, delimiter = ',')\n",
    "    next(data)\n",
    "\n",
    "    day = 365\n",
    "    maxTemp = 0\n",
    "    minTemp = 0\n",
    "    avgTemp = 0\n",
    "\n",
    "    for row in data :\n",
    "        if row[2] != '' :\n",
    "          temp = float(row[2])\n",
    "        if row[3] != '' :\n",
    "          miTemp = float(row[3])\n",
    "        if row[4] != '' :\n",
    "          maTemp = float(row[4])\n",
    "\n",
    "        if temp :\n",
    "            avgTemp += temp\n",
    "        else :\n",
    "            day -= 1\n",
    "        if miTemp :\n",
    "            minTemp += miTemp\n",
    "        else :\n",
    "            day -= 1\n",
    "        if maTemp :\n",
    "            maxTemp += maTemp\n",
    "\n",
    "    print(\"*** Annual Temperature Report for Seoul in 2022 ***\")\n",
    "    print(\"Average Temperature: \" + str(round(avgTemp / day, 2)) + \" Celsius\")\n",
    "    print(\"Average Minimum Temperature: \" + str(round(minTemp / day, 2)) + \" Celsius\")\n",
    "    print(\"Average Maximum Temperature: \" + str(round(maxTemp / day, 2)) + \" Celsius\")\n",
    "\n",
    "if __name__==\"__main__\" :\n",
    "    main()"
   ]
  },
  {
   "cell_type": "code",
   "execution_count": null,
   "metadata": {},
   "outputs": [],
   "source": []
  }
 ],
 "metadata": {
  "kernelspec": {
   "display_name": "Python 3",
   "language": "python",
   "name": "python3"
  },
  "language_info": {
   "codemirror_mode": {
    "name": "ipython",
    "version": 3
   },
   "file_extension": ".py",
   "mimetype": "text/x-python",
   "name": "python",
   "nbconvert_exporter": "python",
   "pygments_lexer": "ipython3",
   "version": "3.10.10"
  },
  "orig_nbformat": 4
 },
 "nbformat": 4,
 "nbformat_minor": 2
}
